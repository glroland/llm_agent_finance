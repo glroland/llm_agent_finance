{
 "cells": [
  {
   "cell_type": "markdown",
   "metadata": {
    "id": "b0DO2AryfwGK"
   },
   "source": [
    "## Writing Finance Articles with Agentic Workflows\n",
    "<link rel=\"stylesheet\"\n",
    "href=\"https://stackpath.bootstrapcdn.com/bootstrap/4.5.2/css/bootstrap.min.css\"\n",
    "integrity=\"sha384-JcKb8q3iqJ61gNV9KGb8thSsNjpSL0n8PARn9HuZOnIxN0hoP+VmmDGMN5t9UJ0Z\"\n",
    "crossorigin=\"anonymous\">\n",
    "<div class=\"bg-info\">\n",
    "<h3>What are agentic workflows?</h3>\n",
    "</div>\n",
    "\n",
    "An <b>agentic workflow</b> is a multi-step sequence of tasks or decisions whose orchestration is handled by AI agents. In Generative AI, AI agents are Large Language Models (or \"Large Action Models\" in this context) that can perform goal-oriented tasks with minimal human intervention. Such tasks may include everything from simple reasoning tasks to complex decision making, and often involve interaction with external resources or systems (called \"tools\").\n",
    "\n",
    "The following will build an agentic workflow for writing finance articles. The workflow consists of the following steps:\n",
    "\n",
    "\n",
    "1.   A **searcher** agent (LLM + search tool) which will search the web for relevant links based on user input.\n",
    "2.   An **outliner** node (LLM) which will generate a suitable outline for the article.\n",
    "3.   A **writer** node (LLM) which will generate the final article.\n",
    "4.   A **critic** node (LLM) which will critique the writer's output and provide feedback to the **writer** for improvements.\n",
    "\n",
    "\n",
    "\n",
    "\n",
    "\n",
    "\n",
    "\n",
    "\n",
    "<div class=\"bg-info\">\n",
    "<h3>What is the difference between an agentic framework and an agentic orchestration framework?</h3>\n",
    "</div>\n",
    "\n",
    "There are different schools of thought about agentic orchestration frameworks.\n",
    "\n",
    "Agentic orchestration can refer to <b>agent-of-agent</b> systems, which are defined based on the number of agents. In this case, they are simply agentic systems that consist of more than a single agent. Hence, it can refer to agentic systems with multiple agents; it can also refer to agentic systems that invoke other agentic systems.\n",
    "\n",
    "Sometimes, agentic orchestration can also be used to distinguish complex multi-agent systems from simpler agentic systems. In this case, agentic orchestration is only necessary for systems with high levels of complexity. This is based on not just the number of agents, but other factors such as the types of flows (directed versus cyclic).\n",
    "\n",
    "There are many frameworks that can be used for building agentic workflows. Due to their reasoning and decision-making abilities, LLMs are a natural fit for driving autonomous workflows. However, users often want the ability to extend, constrain or even override aspects of the flow. For example, they may need a way to dynamically limit cycles, manage state across disparate tools, or integrate human-in-the-loop fedback. A popular approach is to use <b>LLM orchestration</b> frameworks. These are frameworks that combine the flexible and dynamic capabilities of agent-driven workflows with low-level control over essential details of the orchestration. This notebook uses <b>LangChain</b> to build the AI agents, and <b>LangGraph</b> to build the agentic workflow that orchestrates the agents."
   ]
  },
  {
   "cell_type": "markdown",
   "metadata": {
    "id": "NBqxqZJ5dR8Y"
   },
   "source": [
    "# Setup"
   ]
  },
  {
   "cell_type": "code",
   "execution_count": 1,
   "metadata": {
    "id": "mUakb41j7Si1"
   },
   "outputs": [
    {
     "name": "stdout",
     "output_type": "stream",
     "text": [
      "\n",
      "\u001b[1m[\u001b[0m\u001b[34;49mnotice\u001b[0m\u001b[1;39;49m]\u001b[0m\u001b[39;49m A new release of pip is available: \u001b[0m\u001b[31;49m23.2.1\u001b[0m\u001b[39;49m -> \u001b[0m\u001b[32;49m25.0.1\u001b[0m\n",
      "\u001b[1m[\u001b[0m\u001b[34;49mnotice\u001b[0m\u001b[1;39;49m]\u001b[0m\u001b[39;49m To update, run: \u001b[0m\u001b[32;49mpip install --upgrade pip\u001b[0m\n"
     ]
    }
   ],
   "source": [
    "# Install dependencies\n",
    "!pip install -qU langgraph langgraph langchain_openai langchain_community python-dotenv langchain_mistralai llamaapi langchain-experimental langgraph-checkpoint langgraph-checkpoint-sqlite;"
   ]
  },
  {
   "cell_type": "code",
   "execution_count": 2,
   "metadata": {
    "id": "XynJQl3jsZSe"
   },
   "outputs": [],
   "source": [
    "# Import libraries\n",
    "import os\n",
    "import httpx\n",
    "from typing import TypedDict, Annotated, Literal, TypedDict\n",
    "import functools\n",
    "from IPython.display import Image\n",
    "from langchain_core.messages import HumanMessage\n",
    "from langchain_community.tools.tavily_search import TavilySearchResults\n",
    "from langchain_core.prompts import ChatPromptTemplate, MessagesPlaceholder\n",
    "from langchain_openai import ChatOpenAI\n",
    "from langgraph.graph import END, StateGraph\n",
    "from langgraph.graph.message import add_messages\n",
    "from langgraph.prebuilt import ToolNode\n",
    "from langgraph.checkpoint.memory import MemorySaver"
   ]
  },
  {
   "cell_type": "markdown",
   "metadata": {
    "id": "CtrqsCjqn6X6"
   },
   "source": [
    "## Defining Templates\n",
    "Each agent has its own specific **template**. The templates are defined here."
   ]
  },
  {
   "cell_type": "code",
   "execution_count": 3,
   "metadata": {
    "id": "wVN2oUbUn5J7"
   },
   "outputs": [],
   "source": [
    "searcher_template = \"\"\"\n",
    "Your task is to search the web for news articles relevant to the user's request.\n",
    "\n",
    "NOTE: Do not write the article. Simply search for and gather related news articles if needed, then forward them to the outliner node.\n",
    "\"\"\"\n",
    "\n",
    "outliner_template = \"\"\"\n",
    "Your task is to take a list of web articles and the user's instructions about the article they want to write, and use them to generate a concise outline.\n",
    "\n",
    "Focus on organizing the main points clearly to guide the writing process.\n",
    "\"\"\"\n",
    "\n",
    "writer_template = \"\"\"\n",
    "Your task is to write an article using the following format:\n",
    "\n",
    "    TITLE: <title>\n",
    "    BODY: <body>\n",
    "\n",
    "IMPORTANT: Do not copy the outline directly. Write the article in a clear and concise manner, with enough detail to inform the reader on the topic. Be sure to follow the outline.\n",
    "```\n",
    "\"\"\"\n",
    "\n",
    "critic_template = \"\"\"\n",
    "Your task is to critique an article written by a writer. Provide constructive feedback that can help improve the article.\n",
    "\n",
    "GUIDELINES:\n",
    "\n",
    "  - Provide feedback in bullet point format only.\n",
    "  - Focus on the use of keywords, the article title, and section headers. Ensure references are included.\n",
    "  - Do NOT write or rewrite the article.\n",
    "  - Do NOT include positive feedback.\n",
    "  - Never accept the first draft as final.\n",
    "  - If the article meets all expectations, respond with: DONE\n",
    "\"\"\""
   ]
  },
  {
   "cell_type": "markdown",
   "metadata": {
    "id": "-HnyBupj2ciz"
   },
   "source": [
    "## Defining State\n",
    "Here, we will define our **GraphState**, as well as the **nodes** and **edges** that our graph is comprised of. This will encapsulate **state** in our agentic workflows."
   ]
  },
  {
   "cell_type": "code",
   "execution_count": 4,
   "metadata": {
    "id": "Tvdvlt-I13r4"
   },
   "outputs": [],
   "source": [
    "#####################################\n",
    "## STATE ##\n",
    "#####################################\n",
    "class NMAgentState(TypedDict):\n",
    "  \"\"\"\n",
    "  Encapsulates state in our agentic workflow\n",
    "  \"\"\"\n",
    "  messages: Annotated[list, add_messages]\n",
    "\n",
    "#####################################\n",
    "## TOOLS ##\n",
    "#####################################\n",
    "google_search_tool = TavilySearchResults(max_results=5, include_answer=True, include_raw_content=True, include_images=True,)\n",
    "\n",
    "#####################################\n",
    "## AGENTS ##\n",
    "#####################################\n",
    "\"\"\"\n",
    "The LLMs used by the agents\n",
    "\"\"\"\n",
    "granite_llm = ChatOpenAI(openai_api_base=os.environ[\"OPENAI_API_BASE\"],\n",
    "                         openai_api_key=os.environ[\"OPENAI_API_KEY\"],\n",
    "                         model=os.environ[\"OPENAI_API_MODEL\"],\n",
    "                         http_client=httpx.Client(verify=False),\n",
    "                         temperature=0.3,\n",
    "                         request_timeout=240)\n",
    "\n",
    "def create_agent(llm, tools, system_message: str):\n",
    "    \"\"\"\n",
    "    Creates an agent with the given LLM, tools, and system message\n",
    "    \"\"\"\n",
    "    prompt = ChatPromptTemplate.from_messages(\n",
    "        [\n",
    "            (\n",
    "                \"system\",\n",
    "                \"{system_message}\",\n",
    "            ),\n",
    "            MessagesPlaceholder(variable_name=\"messages\"),\n",
    "        ]\n",
    "    )\n",
    "    prompt = prompt.partial(system_message=system_message)\n",
    "    if tools:\n",
    "      return prompt | llm.bind_tools(tools)\n",
    "    else:\n",
    "      return prompt | llm\n",
    "\n",
    "searcher_agent = create_agent(granite_llm, [google_search_tool], searcher_template)\n",
    "outliner_agent = create_agent(granite_llm, [], outliner_template)\n",
    "writer_agent = create_agent(granite_llm, [], writer_template)\n",
    "critic_agent = create_agent(granite_llm, [], critic_template)\n",
    "\n",
    "#####################################\n",
    "## NODES ##\n",
    "#####################################\n",
    "def agent_node(state, agent, name):\n",
    "  result = agent.invoke(state)\n",
    "  return { \"messages\": [result] }\n",
    "\n",
    "searcher_node = functools.partial(agent_node, agent=searcher_agent, name=\"Search Agent\")\n",
    "outliner_node = functools.partial(agent_node, agent=outliner_agent, name=\"Outliner Agent\")\n",
    "writer_node = functools.partial(agent_node, agent=writer_agent, name=\"Writer Agent\")\n",
    "tool_node = ToolNode([google_search_tool])\n",
    "critic_node = functools.partial(agent_node, agent=critic_agent, name=\"Critic Agent\")\n",
    "\n",
    "#####################################\n",
    "## EDGES ##\n",
    "#####################################\n",
    "def should_search(state) -> Literal['tools', 'outliner']:\n",
    "  if len(state['messages']) and state['messages'][-1].tool_calls:\n",
    "    return \"tools\"\n",
    "  else:\n",
    "    return \"outliner\"\n",
    "\n",
    "def should_edit(state) -> Literal['writer', END]:\n",
    "  if len(state['messages']) and 'DONE' in state['messages'][-1].content:\n",
    "    return END\n",
    "  else:\n",
    "    return \"writer\""
   ]
  },
  {
   "cell_type": "markdown",
   "metadata": {
    "id": "i8Lk_1C-8Qzd"
   },
   "source": [
    "## Defining the Workflow Graph\n",
    "Here, we will define the workflow, which will encapsulate the state, nodes and edges defined above."
   ]
  },
  {
   "cell_type": "code",
   "execution_count": 5,
   "metadata": {
    "id": "-7R8y42I8pjP"
   },
   "outputs": [],
   "source": [
    "workflow = StateGraph(NMAgentState)\n",
    "\n",
    "# nodes\n",
    "workflow.add_node(\"searcher\", searcher_node)\n",
    "workflow.add_node(\"outliner\", outliner_node)\n",
    "workflow.add_node(\"writer\", writer_node)\n",
    "workflow.add_node(\"tools\", tool_node)\n",
    "workflow.add_node(\"critic\", critic_node)\n",
    "\n",
    "# entrypoint\n",
    "workflow.set_entry_point(\"searcher\")\n",
    "\n",
    "# edges\n",
    "workflow.add_conditional_edges(\"searcher\", should_search)\n",
    "workflow.add_edge(\"tools\", \"searcher\")\n",
    "workflow.add_edge(\"outliner\", \"writer\")\n",
    "workflow.add_edge(\"writer\", 'critic')\n",
    "workflow.add_conditional_edges(\"critic\", should_edit)\n",
    "\n",
    "# compile the workflow into a graph\n",
    "checkpointer = MemorySaver()\n",
    "graph = workflow.compile(checkpointer=checkpointer, interrupt_before=['critic'])"
   ]
  },
  {
   "cell_type": "markdown",
   "metadata": {
    "id": "aUg7mvnN-Ors"
   },
   "source": [
    "Visualize the graph:"
   ]
  },
  {
   "cell_type": "code",
   "execution_count": 6,
   "metadata": {
    "colab": {
     "base_uri": "https://localhost:8080/",
     "height": 796
    },
    "id": "ztvmtR3S-QrM",
    "outputId": "40dae56c-8757-4428-b94b-49d2b732c12a"
   },
   "outputs": [
    {
     "data": {
      "image/png": "[encoded data removed]",
      "text/plain": [
       "<IPython.core.display.Image object>"
      ]
     },
     "execution_count": 6,
     "metadata": {},
     "output_type": "execute_result"
    }
   ],
   "source": [
    "Image(graph.get_graph(xray=1).draw_mermaid_png())"
   ]
  },
  {
   "cell_type": "markdown",
   "metadata": {
    "id": "YV-oh0rL-Vs7"
   },
   "source": [
    "# Testing the workflow\n",
    "Now that the workflow has been generated, we can test it out with different prompts."
   ]
  },
  {
   "cell_type": "code",
   "execution_count": 7,
   "metadata": {
    "id": "fN2Kzpwn-n5D"
   },
   "outputs": [],
   "source": [
    "# Prompt to test\n",
    "input = \"Generate an article about net-zero alignment by Neuberger Berman.\""
   ]
  },
  {
   "cell_type": "code",
   "execution_count": 8,
   "metadata": {
    "colab": {
     "base_uri": "https://localhost:8080/"
    },
    "id": "ih0KwOth_Ic2",
    "outputId": "2fb8e1eb-610d-4ca6-f98e-5a22cb3b9309"
   },
   "outputs": [
    {
     "name": "stdout",
     "output_type": "stream",
     "text": [
      "================================\u001b[1m Human Message \u001b[0m=================================\n",
      "\n",
      "Generate an article about net-zero alignment by Neuberger Berman.\n",
      "==================================\u001b[1m Ai Message \u001b[0m==================================\n",
      "Tool Calls:\n",
      "  tavily_search_results_json (chatcmpl-tool-0b8859ad58fc4a6daa4313b41ccff2e2)\n",
      " Call ID: chatcmpl-tool-0b8859ad58fc4a6daa4313b41ccff2e2\n",
      "  Args:\n",
      "    query: Neuberger Berman net-zero alignment\n",
      "=================================\u001b[1m Tool Message \u001b[0m=================================\n",
      "Name: tavily_search_results_json\n",
      "\n",
      "[{\"title\": \"[PDF] Net-Zero Alignment: Beyond the Numbers - Neuberger Berman\", \"url\": \"https://www.nb.com/handlers/documents.ashx?id=45da7803-2a49-4ba0-bbc4-e164640bddb2\", \"content\": \"That is why we believe investors must make their own assessment of companies’ net-zero \\nalignment, and why we think those assessments should be informed by fundamental-research \\ncapabilities that can fill the gaps in the data with specialist, real-time insight. Neuberger Berman’s \\nNet-Zero Alignment Indicator is designed to answer this need. \\nIn this paper, we describe how the Indicator works, and why we think it is necessary for any [...] It is this experience that has informed the development of our Net-Zero Alignment Indicator and persuaded us of the critical importance \\nof going “beyond the numbers” when assessing company’s net-zero alignment. Neuberger Berman \\n1290 Avenue of the Americas New York, NY 10104-0001 \\nwww.nb.com Y0167 12/23 1500348 ©2023 Neuberger Berman Group LLC. All rights reserved. [...] All three types of investor can benefit from using a rigorous process for assessing net-zero alignment, designed and utilized by an active \\nmanager with substantial fundamental-research capabilities. \\nFor the third class of investor, fundamental-research capabilities and insights are particularly important, because they can inform \\ncorporate engagement programs. As active managers, engagement is a key part of Neuberger Berman’s investment process. Our\", \"score\": 0.88799405, \"raw_content\": \"rge Color Bar - Portrait (w/Bleed) \\ns version will be placed on the cover of pieces that contain imagery such as Brochures and White Papers. As governments worldwide increasingly commit to net-zero greenhouse gas emissions targets, \\ncompanies and investors recognize the need to manage the risk of misalignment with those \\ncommitments. \\nCorporate commitments and emissions-reduction plans are not always science-based or realistic, \\nhowever, and the data available for assessing alignment is often incomplete and backward-\\nlooking. That makes it tempting to rely on one of the many new “Paris-Aligned” or “Climate \\nTransition” indices as a reference point, but we argue that the European Union regulation \\ndefining the parameters of these benchmarks is flawed, forcing them to achieve emissions \\nreduction with the blunt instrument of reducing the weight of high-emitting sectors. \\nThat is why we believe investors must make their own assessment of companies’ net-zero \\nalignment, and why we think those assessments should be informed by fundamental-research \\ncapabilities that can fill the gaps in the data with specialist, real-time insight. Neuberger Berman’s \\nNet-Zero Alignment Indicator is designed to answer this need. \\nIn this paper, we describe how the Indicator works, and why we think it is necessary for any \\ninvestor wanting to assess companies’ progress on emissions reduction, and identify where they \\nmight help to drive that progress. \\n\\nJONATHAN BAILEY\\nGlobal Head of ESG & Impact Investing\\nSARAH PEASEY\\nHead of Europe ESG Investing\\n\\nWhite Paper  | July 2023 \\nNet-Zero Alignment: Beyond the Numbers\\n\\nLAURA KUNSTLER-BROOKS\\nAssociate, ESG Investing 2NET-ZERO ALIGNMENT: BEYOND THE NUMBERS\\n\\nExecutive Summary  \\n\\n•\\n\\nIn our view, the degree to which investment portfolios are aligned with the broadly adopted policy target of net-zero emissions \\nby 2050 represents an important source of risk and opportunity.  \\n\\n•\\n\\nA number of “Paris-Aligned” or “Climate Transition” index benchmarks have appeared on the market, but they suffer from \\nflaws due to incomplete data and poorly conceived parameters in the benchmark regulation.  \\n\\n•\\n\\nWe believe investors must make their own assessment of companies’ net-zero alignment, and that these assessments should \\nbe informed by fundamental-research that complement reported data.  \\n\\n•\\n\\nThe Net-Zero Investment Framework (NZIF) developed by the Institutional Investor Group on Climate Change (IIGCC) provides \\na useful model, particularly in terms of its forward-looking emphasis and its recognition of sector differentiation.  \\n\\n•\\n\\nThe NB Net-Zero Alignment Indicator builds on the IIGCC NZIF. \\n\\n\\nQuantitative scores draw on multiple third-party data points \\n\\n\\nQualitative inputs from specialist research analysts can override the initial quantitative scores  \\n\\n\\n\\n•\\n\\nReal-world examples of analysts overriding initial quantitative scores demonstrate the critical importance of this analyst input \\nin the process.  \\n\\n•\\n\\nWhere an investor has a substantial company engagement program, the NB Net-Zero Alignment Indicator introduces an \\nadditional feedback loop: insights from engagement feed into the scores, and those evolving scores then help us to track \\nand focus engagement on issuers’ specific areas of weakness. \\nClimate change is a financially material issue affecting virtually all industries and asset classes. In our view, the degree to which \\ninvestment portfolios are aligned with the broadly adopted policy target of net-zero emissions by 2050 represents an important source \\nof risk and opportunity. \\nIn November 2022, we  wrote  about 11 key issues asset owners should consider if they have adopted net-zero commitments in their \\nportfolios. One of these considerations is the need to set and deliver on portfolio net-zero targets. 1 Even investors without explicit \\nnet-zero commitments of their own may want to know which companies may be leading or lagging in their pursuit of a net-zero \\ncommitment. This will require investors to measure and monitor corporate emissions-reduction progress with rigor and, where they do \\nhave net-zero portfolio targets, identify where and how they might help to pursue such targets. \\n“Rigor” is the key word, here. Of the world’s largest publicly traded companies, 41% have made public net-zero commitments, and it is \\nreported that more than 4,500 companies are now working with the Science-Based Targets initiative (SBTi) to set emissions reduction \\ntargets. 2 However, a recent report from the CDP (formerly the Carbon Disclosure Project) shows that, in spite of those commitments, \\ncompanies are not developing credible transition plans fast enough: among 18,600 companies globally, only 0.4% have developed \\nwhat the CDP considers to be a credible transition plan. In particular, companies lack the right financial planning, targets, and strategy \\nto execute their commitment. \\nMoreover, good data is hard to come by. The IIGCC recently published a guide for investors on how to engage with private data \\nvendors to help improve the quality and usability of the data that goes into net-zero alignment assessments and target setting, \\nbecause it found the coverage provided by the 16 leading vendors it assessed to be inconsistent, “ranging from multiple options for \\nwell-covered criteria (e.g. decarbonisation targets) to scarce for more innovative criteria (e.g. CAPEX alignment, just transition).” \\nAt the moment, the IIGCC notes, investors need to “aggregate multiple datasets and assess an asset’s performance internally, which \\nis especially problematic for investors with constraints on resources and technical expertise.” 3    \\n\\n1https://www.nb.com/en/us/insights/whitepaper-key-considerations-when-navigating-the-net-zero-transition\\n2https://zerotracker.net/ and https://sciencebasedtargets.org/companies-taking-action\\n3https://www.iigcc.org/resource/six-asks-of-data-vendors-improving-net-zero-data-provision/ NET-ZERO ALIGNMENT: BEYOND THE NUMBERS 3\\n\\nIt is Tempting to Follow a Net-Zero Index—But Suboptimal \\nFaced with this challenge, it may be tempting simply to track or refer to one of the net-zero benchmarks currently available or being \\ndeveloped by index providers and climate data vendors. These have proliferating since the appearance, in 2019, of the European \\nUnion’s regulation covering “Paris-Aligned” and “Climate Transition” investment benchmarks (PABs, CTBs). \\nHowever, as the IIGCC put it in a recent paper on “Enhancing the Quality of Net Zero Benchmarks,” while this regulation has “provided \\na step in the right direction,” it “does not meet the full ambitions of an investor targeting net zero.” 4\\nTo understand why, consider that the E.U. regulation requires that a benchmark must exhibit a 50% reduction in carbon intensity \\nversus the broad index at launch to qualify for the sought-after PAB label. Traditional measures such as carbon footprint and carbon \\nintensity are useful, in that they are comparable across companies and portfolios, but there are major pitfalls associated with relying \\nheavily on them for net-zero alignment assessments. \\nFor example, they are backward-looking and can lag financial disclosures by two years or more. Economic and other macro shocks \\ncan change these metrics without changing a company’s overall emissions profile—think of how a recession lowers carbon-intensive \\nmanufacturing, for example, or how the pandemic decimated air travel. \\nPerhaps most importantly, they are insensitive to the specifics of particular sectors: given the feasibility of renewable energy solutions \\nfor electrical utilities, it might be reasonable to expect those companies to front-load their emissions reductions, perhaps achieving \\n50% by 2030; for aviation, however, a 25% reduction by 2030 followed by faster reductions thereafter might be more realistic, given \\nthe current limitations of sustainable aviation fuel options. As a result, the IIGCC observes, “benchmarks implementing the regulations \\nhave a tendency to comply with emission reduction targets through capital reallocation, achieving emissions reductions by reducing \\nthe weight of the highest emitting sectors relative to others.” 5\\nThat not only results in major sectoral bets against the broad market. It also forgoes what we believe are significant opportunities to \\nprovide capital to, and engage with, businesses that have credible opportunities to improve their emissions performance. We agree \\nwith the IIGCC that this bias against inclusion and engagement and toward divestment is not “best practice”—which should “aim to \\npromote real world emissions reductions” rather than just reported emissions in portfolios. 6\\nFor these reasons, investors who want to include transitioning businesses as well as low-emission businesses in their portfolios cannot \\nrely on the current index benchmarks, in our view. We believe investors need to be able to identify those companies that are genuinely \\nwilling and able to reduce emissions, and carry out rigorous ongoing measurement and monitoring of their progress. \\nThis is the case for developing a way to assess net-zero alignment independently, and what motivated us to develop our own Net-Zero \\nAlignment Indicator. \\nNet-Zero Alignment Indicator Quantitative Input: Multiple Data Points, Forward-Looking, \\nSector-Appropriate \\nBeing forward-looking and sector-specific are important considerations evident in the Net-Zero Investment Framework (NZIF) \\ndeveloped by the IIGCC, which sets out the criteria a company should meet to be considered net-zero aligned. 7 This framework \\nprovided the starting point for development of our own Indicator. \\nThe NB Net-Zero Alignment process involves three steps: \\n\\n\\nGenerating a quantitative score for six net-zero alignment sub-indicators \\n\\n\\nAnalyst validation, with the option to override the initial quantitative scores \\n\\n\\nSumming those scores into a final net-zero alignment score, mapped to a net-zero alignment status      \\n\\n\\n\\n4IGCC-Enhancing-the-Quality-of-Net-Zero-Benchmarks.pdf\\n5IGCC-Enhancing-the-Quality-of-Net-Zero-Benchmarks.pdf\\n6IGCC-Enhancing-the-Quality-of-Net-Zero-Benchmarks.pdf\\n7https://www.iigcc.org/download/net-zero-investment-framework-implementation-guide/?wpdmdl=4425&refresh=63052325dd0171661281061 4NET-ZERO ALIGNMENT: BEYOND THE NUMBERS\\n\\nOur quantitative process currently involves gathering more than 30 binary and numerical data points from third-party vendors. These \\nfeed into the six sub-indicators listed below, which mirror the criteria set out by the IIGCC. Note that sub-indicators 1, 2, 5 and 6 are \\nall forward-looking. As the accuracy and availability of data improves, we expect to be able to accommodate new data points and \\neven new sub-indicators when appropriate. \\nThe current sub-indicators are: \\n\\n\\nLong-Term Ambition \\n\\n\\nShort- and Medium-Term Targets \\n\\n\\nEmissions Performance \\n\\n\\nDisclosure \\n\\n\\nDecarbonization Strategy \\n\\n\\nCapital Allocation \\n\\n\\nWe found a binary Aligned/Not Aligned scoring system to be insufficient to capture the nuances of many companies’ status and \\nprogress, so we generate a score between 1 (lowest) and 5 (highest) for each of the six sub-indicators, using the relevant items \\nfrom our set of 30-plus data points from third-party vendors. We aim for data redundancy by drawing on multiple data points for \\neach component of each sub-indicator, where possible, so that if one third-party vendor is missing data for a company, we give that \\ncompany a further opportunity to source this data from another provider. We also think some data inputs are more credible than \\nothers. Having an approved Science-Based Target, for example, should count for more than announcing a minimal reduction target \\nin operational emissions. To reflect this, some data points contribute more to the sub-indicator score than others. \\nSector-appropriateness is built into the quantitative process in two ways. \\nFirst, a number of the data points we use come with sector-specificity built in. For example, for the same data point on \\ndecarbonization strategy, a bank’s strategy would be scored on green finance targets, whereas an auto manufacturer’s would be \\nscored on electric vehicle revenue targets and a utility’s would be scored on the target for renewables in its energy mix. \\nSecond, while we apply every criterion to all companies, we give issuers in sectors that are classified as low-impact by the IIGCC a +2 \\nboost to their scores on “Long-Term Ambition” and “Short- and Medium-Term Targets” (subject to a capped total score of 5 for each \\nsub-indicator), to recognize the lesser importance this action has when the hurdle to achieving net-zero emissions is lower. \\nThe sub-indicator scores, along with the low-impact boost where applicable, are then summed to generate an overall net-zero \\nalignment score between 1 and 30, and that overall score is used to map and assign the issuer one of five alignment statuses: \\n\\n\\nAchieving net zero \\n\\n\\nAligned with a net-zero pathway \\n\\n\\nAligning with a net-zero pathway \\n\\n\\nCommitted to aligning with a net-zero pathway \\n\\n\\nNot aligned \\n\\n\\nWe assign one alignment status per company, which is agreed and applied across asset classes.   \\n\\n1https://www.iigcc.org/download/net-zero-investment-framework-implementation-guide/?wpdmdl=4425&refresh=63052325dd0171661281061 NET-ZERO ALIGNMENT: BEYOND THE NUMBERS 5\\n\\n1 LONG-TERM AMBITION \\nAssesses whether an issuer has a credible, stated \\ngoal of reaching net-zero emissions by 2050 \\n2 SHORT- AND MEDIUM-TERM TARGETS \\nAssesses whether an issuer has credible, stated \\nshort- and medium-term emissions targets that \\ncover all relevant emissions scopes \\n3 EMISSIONS PERFORMANCE \\nAssesses whether an issuer’s historical, current and \\nprojected emissions puts it on track to achieve a \\nnet-zero goal \\n4 DISCLOSURE \\nAssesses the quality of an issuer’s emissions disclosure \\nacross Scope 1, 2 and material Scope 3 emissions \\n5 DECARBONIZATION STRATEGY \\nAssesses whether an issuer has a credible, quantified \\nstrategy to decarbonize its business model over time \\n6 CAPITAL ALLOCATION \\nAssesses whether an issuer’s capital allocation \\ndecisions are consistent with a net-zero goal \\n\\nALIGNMENT STATUS\\nAchieving a Net-Zero Pathway\\nAligned With a Net-Zero Pathway\\nAligning With a Net-Zero Pathway\\nCommitted to Aligning\\nWith a Net-Zero Pathway\\nNot Aligned\\nNot Known\\nor Not Yet Assessed\\n\\nQualitative Input: The Critical Contribution of Analysts \\nOur analysts act as overseers and potentially overriders of the quantitative scoring for each issuer. The analyst sees all of the data \\npoints gathered from third-party vendors, and the resulting preliminary score, from 1 to 5, for each of the six sub-indicators. At this \\npoint, should the analyst covering an issuer believe that any of these scores merit an upgrade or downgrade, they can override it, \\nbut each override must be backed by evidence from a direct engagement with the company, the company’s sustainability report, \\nor a credible third-party source. \\nWhy do the quantitative inputs require analyst oversight? Because some of the data is backward-looking, some is reported with \\nsubstantial lags, and most covers only public-listed, large-cap, investment-grade and developed-market issuers. Analysts with multi-\\nyear experience of an issuer may have more up-to-date or nuanced intelligence on particular net-zero alignment criteria. Their fuller \\nunderstanding of the sector they specialize in may also provide important insights, particularly when assessing whether capital \\nallocation and research-and-development plans make the most of a company’s capacity through available technologies to decarbonize \\nits business model. In this way, they deepen the forward-looking and sector-specific aspects of the IIGCC’s criteria. In fact, having 6 NET-ZERO ALIGNMENT: BEYOND THE NUMBERS \\nanalyst input enables us to score many companies that would not otherwise be captured by traditional ESG data providers, either \\nbecause they are privately owned or because they are important bond issuers but small in the equity market. This is another reason \\nwhy we believe net-zero alignment is best approached actively rather than passively. \\nWe believe analysts can bring these invaluable real-time insights to the assessment of all six of the net-zero alignment sub-indicators. \\n\\nLong-Term Ambition \\n\\nWhat has the company committed to?  \\n\\n•\\n\\nBoard has understood the strategic \\nimportance of transition  \\n\\n•\\n\\nStrategic decision making factors in \\nclimate  \\n\\n•\\n\\nTrust and belief in company executive \\nto execute on commitments \\n\\nShort- & Medium-Term Targets \\n\\nHow has the company followed up \\ntheir commitment with credible \\ntargets?  \\n\\n•\\n\\nAll climate targets and commitments \\nshould be informed by current \\nemissions performance metrics, to \\nunderstand whether the target of \\ncommitment is credible \\n\\nEmissions Performance \\n\\nHow is the company tracking progress \\ntoward the targets?  \\n\\n•\\n\\nCurrent emissions intensity \\nperformance relative to targets  \\n\\n•\\n\\nGiven data lag in emissions disclosures \\nthrough third-party data providers, \\nanalysts can often provide more recent \\nfigures \\n\\nDisclosure \\n\\nHow is the company reporting \\nprogress toward the targets?  \\n\\n•\\n\\nDisclosure of Scope 1, 2 and material \\nScope 3 emissions  \\n\\n•\\n\\nAnalysts opine on credibility of \\ndisclosures and can often provide \\nmore recent figures \\n\\nDecarbonization Strategy \\n\\nDoes the company have credible plans \\nto decarbonize?  \\n\\n•\\n\\nDemonstration of a credible plan for \\nreaching net zero in the context of \\nwhat is feasible given technology and \\nsector expectations \\n\\nCapital Allocation \\n\\nIs the company dedicating resources to \\ndecarbonize?  \\n\\n•\\n\\nIdentify sector-specific technology \\ninnovation feasibility  \\n\\n•\\n\\nDemonstration of capital expenditure \\nand budgeting to deliver GHG target \\nTo demonstrate what this means in practice, here are two examples of meaningful interventions made by our own analysts, one \\nconcerning a privately-owned company and the other a public company. \\nJAGUAR LAND ROVER \\nIndicator \\nQuant Score \\n(1-5) \\nAnalyst-Adjusted \\nScore (1-5)  Score Breakdown \\n\\n\\nLong-term Ambition  5 5 Net-zero commitment captured by SBTi \\n\\n\\nShort- and Medium-Term Targets  4 4 Short- and medium-term targets validated by SBTi \\n\\n\\nEmissions Performance  1 3 Declining emissions intensity trajectory over a three-year period \\n\\n\\nDisclosures  1 4 Discloses Scope 1 and 2 emissions \\n\\n\\nDecarbonization Strategy  1 3 Confirmed quantified decarbonization strategy \\n\\n\\nCapital Allocation  1 1 Does not have a capital allocation strategy in place or \\n\\n\\nany basis to estimate green capex \\nTotal Score  13  20  Aligning NET-ZERO ALIGNMENT: BEYOND THE NUMBERS  7\\n“As a private company, many of Jaguar Land Rover’s efforts to transition to net zero were not captured by traditional ESG data \\nproviders. Based on our knowledge of the company and its public sustainability reporting, we were able to evidence upgrades for \\nthree sub-indicators. We identified full and transparent Scope 1 & 2 absolute emissions disclosures, and documented consistent \\ndeclines in emissions intensity over a three-year trajectory. We also noted the company’s decarbonization strategy included a goal \\nto engage with all Tier-1 suppliers on setting science-based targets, as well as specific quantified targets to increase pure electric \\nvehicles to 27% of overall sales by 2025/2026, and to 60% by 2030.” \\nTom Tharayil, Senior Research Analyst—Non-Investment Grade \\nPLAINS ALL AMERICAN PIPELINE                       \\n\\nIndicator\\nQuant Score\\n(1-5)\\nAnalyst-Adjusted\\nScore (1-5) Score Breakdown\\n1. Long-term Ambition 11Confirmed lack of net-zero commitment\\n2. Short- and Medium-Term Targets 11Confirmed lack of short- and medium-term targets\\n3. Emissions Performance 31Insufficient data to validate emissions performance over time\\n4. Disclosures 44Discloses Scope 1 and 2 emissions\\n5. Decarbonization Strategy 11Confirmed lack of quantified decarbonization strategy\\n6. Capital Allocation 11Does not have a capital allocation strategy in place\\nor any basis to estimate green capex\\nTotal Score 11 9Not Aligned\\n\\n“For Plains All American Pipeline, limited data availability and disclosures from the company were erroneously translated into \\nan implied temperature rise of 2°C. In our view, there was insufficient reported data to establish either a three-year declining \\nemissions intensity trend, or compatibility of the company’s current emissions intensity with Paris-aligned emissions pathways. \\nOn that basis, we downgraded the emissions performance sub-indicator. For this type of issue, we would typically start by \\nengaging on improving disclosure, followed by making a net-zero commitment, and ultimately monitor how this affects emissions \\nperformance over time. As such, we engaged with the issuer on formalizing an emissions reduction pathway with quantitative \\ntargets. While the issuer will include an emissions reduction plan in its next ESG report, it told us it will not commit to specific \\ntargets in the report nor does it plan to establish quantitative targets in the future. The information gained through our \\nengagement activity reinforces our downgrade of the Net-Zero Alignment Indicator and underlines our view that the issuer is a \\nlaggard compared to peers.” \\nKelly Weber, Senior Research Analyst—Investment Grade 8 NET-ZERO ALIGNMENT: BEYOND THE NUMBERS \\nAs active managers, we strongly believe that data is only the starting point when it comes to ESG analysis, and that analyst judgement \\nis essential. To illustrate the importance of this stage to our Net-Zero Alignment Indicator process, let’s look at the override results we \\nsaw from the first Indicator assessment of our Climate Transition Multi-Asset credit strategy, which deploys multiple tools in pursuit of \\na goal of net-zero emissions. 8\\nFIGURE 1. TOTAL ANALYST OVERRIDES IN A TYPICAL NB CLIENT PORTFOLIO WITH A NET-ZERO EMISSIONS GOAL \\nNumber of holdings assessed by the NB Net-Zero Alignment Indicator and subject to at least one analyst override, by asset class \\n0% 20% 40% 60% 80% 100% Total Holdings (547) Investment Grade Emerging Markets Debt Non-Investment Grade Bank Loans \\nSubjected to Overrides NOT Subjected to Overrides \\nSub-Indicator 6: Capital Allocation Sub-Indicator 5: Decarbonization Strategy Sub-Indicator 4: Disclosure Sub Indicator 3: Emissions Performance Sub Indicator 2: Short- and Medium -Term Targets Sub Indicator 1: Long-Term Ambition 112 771 2 10 Downgrade Upgrade 44 15 \\n122 425\\n112 727 29 654 21 43 \\nNumber of analyst overrides by sub-indicator within the Net-Zero Alignment Indicator \\nSource: Neuberger Berman. For illustrative purposes only.  \\n\\n8\\n\\nFor more detail on how we align a credit portfolio with net-zero goals, see  https://www.nb.com/en/us/insights/whitepaper-transitioning-to-net-zero-in-\\ncredit-portfolios NET-ZERO ALIGNMENT: BEYOND THE NUMBERS  9\\nThe thing to notice here is not simply the large proportion of scores that get overridden by analysts but the distribution of overrides \\nacross asset classes and the six sub-indicators. This confirms our intuition about the additional insights our analysts can bring. \\nScores associated with issuers of bank loans and high yield bonds were subjected to the largest proportion of upgrades by asset class, \\nwhich is consistent with lower availability of quantitative data and third-party assessments for issuers active in those markets. \\nSub-indicators 4, “Disclosure” and 6, “Capital Allocation,” were subjected to by far the largest proportion of overrides, reflecting \\nsubstantial lags in emissions data and the importance of specialist qualitative judgement in assessing companies’ spending and \\ninvestment plans. The reason sub-indicator 3, “Emissions Performance,” was subjected to the fewest overrides is that most issuers have \\nnot disclosed actual emissions for long enough to allow analysts to compare them directly with previous emissions projections. \\nNote that these results are from the first occasion on which this portfolio was scored with the Net-Zero Alignment Indicator. They show \\nthe overrides that were necessary given the score based on the “raw” quantitative data. Next time the portfolio is scored, analysts will \\nneed to reaffirm or update their previous adjustments, but there are likely to be far fewer additional overrides required. \\nConclusion: Beyond the Numbers \\nAs governments worldwide commit to emissions-reduction targets, companies and investors increasingly recognize the need to manage \\nthe risk of misalignment. \\nSome investors will simply wish to divest from companies that are substantially misaligned. Others may wish to build an assessment of \\ncompany alignment into their ESG-integrated investment strategies. Increasingly, we also see a third class of investors who want to set \\ntheir own portfolios onto a path to net-zero emissions. Many of these investors recognize that, to achieve a net-zero portfolio without \\nsweeping divestments from high-emitting sectors where there is greatest scope to achieve real-world emissions reduction, they and \\ntheir asset managers need to engage with companies to monitor and encourage credible strategies for alignment. \\nAll three types of investor can benefit from using a rigorous process for assessing net-zero alignment, designed and utilized by an active \\nmanager with substantial fundamental-research capabilities. \\nFor the third class of investor, fundamental-research capabilities and insights are particularly important, because they can inform \\ncorporate engagement programs. As active managers, engagement is a key part of Neuberger Berman’s investment process. Our \\nanalysts and portfolio managers conduct between 4,000 and 5,000 engagement meetings with company management each year, \\nand usually around a third of those involve conversations on climate topics. Where an investor has a substantial company engagement \\nprogram, the NB Net-Zero Alignment Indicator introduces an additional feedback loop: insights from engagement feed into the scores, \\nand those evolving scores then help us to track and focus engagement on issuers’ specific areas of weakness. \\nIt is this experience that has informed the development of our Net-Zero Alignment Indicator and persuaded us of the critical importance \\nof going “beyond the numbers” when assessing company’s net-zero alignment. Neuberger Berman \\n1290 Avenue of the Americas New York, NY 10104-0001 \\nwww.nb.com Y0167 12/23 1500348 ©2023 Neuberger Berman Group LLC. All rights reserved. \\nThis material is provided for informational purposes only and nothing herein constitutes investment, legal, accounting or tax advice. This material is general in nature \\nand is not directed to any category of investors and should not be regarded as individualized, a recommendation, investment advice or a suggestion to engage in or \\nrefrain from any investment-related course of action. Investment decisions and the appropriateness of this material should be made based on an investor’s individual \\nobjectives and circumstances and in consultation with his or her advisors. Information is obtained from sources deemed reliable, but there is no representation or \\nwarranty as to its accuracy, completeness or reliability. All information is current as of the date of this material and is subject to change without notice. Any views or \\nopinions expressed may not reflect those of the firm as a whole. Neuberger Berman products and services may not be available in all jurisdictions or to all client types. \\nInvesting entails risks, including possible loss of principal. Investments in hedge funds and private equity are speculative and involve a higher degree of risk than more \\ntraditional investments. Investments in hedge funds and private equity are intended for sophisticated investors only. Indexes are unmanaged and are not available for \\ndirect investment. Past performance is no guarantee of future results. \\nThis material is being issued on a limited basis through various global subsidiaries and affiliates of Neuberger Berman Group LLC. Please visit www.nb.com/disclosure-\\nglobal-communications for the specific entities and jurisdictional limitations and restrictions. \\nThe “Neuberger Berman” name and logo are registered service marks of Neuberger Berman Group LLC. \\n© 2023 Neuberger Berman Group LLC. All rights reserved.\"}, {\"title\": \"Refining Sustainable Investing Through Active Management\", \"url\": \"https://www.nbprivatewealth.com/en/insights/refining-sustainable-investing-through-active-management\", \"content\": \"In 2023, Harvard Business School conducted an in-depth case study on our approach to integrating climate-related risks and opportunities into investment strategies. \\\"Investing in the Climate Transition at Neuberger Berman\\\" explored the firm's development of the Net-Zero Alignment Indicator and its role in fostering active engagement with\", \"score\": 0.8380581}, {\"title\": \"Climate | Neuberger Berman\", \"url\": \"https://www.nb.com/en/global/stewardship/climate\", \"content\": \"As an asset manager with a long-term perspective, Neuberger Berman recognizes the impact of climate change and that the transition toward global net-zero emissions is well underway. We are committed to partnering with clients seeking to have their assets managed in line with a net-zero objective.\", \"score\": 0.8312667}, {\"title\": \"Refining Sustainable Investing Through Active Management\", \"url\": \"https://www.nbprivatewealth.com/insights/refining-sustainable-investing-through-active-management\", \"content\": \"“Investing in the Climate Transition at Neuberger Berman” explored the firm's development of the Net-Zero Alignment Indicator and its role in\", \"score\": 0.82694983}, {\"title\": \"Climate | Neuberger Berman\", \"url\": \"https://www.nb.com/de/global/stewardship/climate\", \"content\": \"In partnership with our clients, we designed a proprietary Net-Zero Alignment Indicator, which seeks to capture an issuer's current status and progress over\", \"score\": 0.82492816}]\n",
      "==================================\u001b[1m Ai Message \u001b[0m==================================\n",
      "\n",
      "Neuberger Berman, a prominent asset management firm, has developed a Net-Zero Alignment Indicator to assess companies' progress towards net-zero emissions alignment. This innovative tool is designed to go \"beyond the numbers\" by integrating fundamental research and analyst insights.\n",
      "\n",
      "**Key Points:**\n",
      "\n",
      "1. **Need for Independent Assessment:** Neuberger Berman argues that relying solely on existing \"Paris-Aligned\" or \"Climate Transition\" indices is insufficient due to flaws in data completeness and regulatory parameters. These benchmarks often achieve emissions reductions by reducing the weight of high-emitting sectors, which the firm deems a suboptimal approach.\n",
      "\n",
      "2. **Neuberger Berman's Net-Zero Alignment Indicator:** The indicator is a three-step process involving:\n",
      "   - **Quantitative Scoring:** Utilizing over 30 data points from third-party vendors to generate scores (1-5) for six sub-indicators: Long-Term Ambition, Short- and Medium-Term Targets, Emissions Performance, Disclosure, Decarbonization Strategy, and Capital Allocation.\n",
      "   - **Analyst Validation:** Analysts can override initial scores based on direct engagement with companies, sustainability reports, or credible third-party sources, ensuring a forward-looking and sector-specific evaluation.\n",
      "   - **Final Score:** Summing sub-indicator scores to produce an overall net-zero alignment score (1-30) mapped to one of five alignment statuses: Achieving Net Zero, Aligned with a Net-Zero Pathway, Aligning with a Net-Zero Pathway, Committed to Aligning with a Net-Zero Pathway, and Not Aligned.\n",
      "\n",
      "3. **Analyst Insights:** Analysts play a critical role in the process, providing real-time insights and oversight. Their expertise helps in evaluating companies that might otherwise be overlooked by traditional ESG data providers, especially privately-owned or significant bond issuers in the equity market.\n",
      "\n",
      "4. **Engagement and Feedback Loop:** For investors with substantial engagement programs, the Net-Zero Alignment Indicator introduces a feedback loop. Insights from engagement inform the scores, and evolving scores help focus engagement on specific areas of weakness within companies.\n",
      "\n",
      "5. **Relevance for Different Investors:** The tool benefits all types of investors: those wishing to divest from misaligned companies, those integrating ESG into investment strategies, and those aiming to set their portfolios on a net-zero emissions path. For the latter, fundamental research and insights are crucial for informing corporate engagement programs.\n",
      "\n",
      "6. **Recognition and Case Study:** Neuberger Berman's approach has gained recognition, including a case study by Harvard Business School titled \"Investing in the Climate Transition at Neuberger Berman,\" which explores the development and application of the Net-Zero Alignment Indicator.\n",
      "\n",
      "**Sources:**\n",
      "\n",
      "1. [PDF] Net-Zero Alignment: Beyond the Numbers - Neuberger Berman\n",
      "   - <https://www.nb.com/handlers/documents.ashx?id=45da7803-2a49-4ba0-bbc4-e164640bddb2>\n",
      "\n",
      "2. Refining Sustainable Investing Through Active Management\n",
      "   - <https://www.nbprivatewealth.com/en/insights/refining-sustainable-investing-through-active-management>\n",
      "\n",
      "3. Climate | Neuberger Berman\n",
      "   - <https://www.nb.com/en/global/stewardship/climate>\n",
      "\n",
      "4. Climate | Neuberger Berman (German version)\n",
      "   - <https://www.nb.com/de/global/stewardship/climate>\n",
      "==================================\u001b[1m Ai Message \u001b[0m==================================\n",
      "\n",
      "**Outline for Article: \"Neuberger Berman's Approach to Net-Zero Alignment\"**\n",
      "\n",
      "I. Introduction\n",
      "   A. Brief overview of Neuberger Berman\n",
      "   B. Importance of net-zero alignment in investment strategies\n",
      "   C. Introduction to Neuberger Berman's Net-Zero Alignment Indicator\n",
      "\n",
      "II. The Limitations of Existing Net-Zero Benchmarks\n",
      "   A. Explanation of \"Paris-Aligned\" and \"Climate Transition\" indices\n",
      "   B. Critique of the European Union's regulatory flaws\n",
      "   C. The bias against inclusion and engagement, favoring divestment\n",
      "\n",
      "III. Neuberger Berman's Net-Zero Alignment Indicator\n",
      "   A. Development inspired by the IIGCC's Net-Zero Investment Framework\n",
      "   B. Three-step process:\n",
      "      1. Quantitative scoring using multiple third-party data points\n",
      "      2. Analyst validation and potential score overrides\n",
      "      3. Summing sub-indicator scores into a final alignment score\n",
      "   C. Six sub-indicators:\n",
      "      1. Long-Term Ambition\n",
      "      2. Short- and Medium-Term Targets\n",
      "      3. Emissions Performance\n",
      "      4. Disclosure\n",
      "      5. Decarbonization Strategy\n",
      "      6. Capital Allocation\n",
      "   D. Mapping scores to one of five alignment statuses\n",
      "\n",
      "IV. The Critical Role of Analyst Insights\n",
      "   A. Analysts' ability to provide real-time, sector-specific assessments\n",
      "   B. Examples of analyst overrides and their impact on scoring\n",
      "   C. Enhancing the forward-looking and nuanced aspects of the IIGCC's criteria\n",
      "\n",
      "V. Engagement and Feedback Loop\n",
      "   A. Importance for investors with substantial engagement programs\n",
      "   B. How insights from engagement inform and update scores\n",
      "   C. Focusing engagement on specific areas of weakness within companies\n",
      "\n",
      "VI. Benefits for Different Investor Types\n",
      "   A. Divestment-oriented investors\n",
      "   B. ESG-integrated strategy investors\n",
      "   C. Net-zero portfolio target investors\n",
      "\n",
      "VII. Recognition and Case Study\n",
      "   A. Harvard Business School case study: \"Investing in the Climate Transition at Neuberger Berman\"\n",
      "   B. Highlighting the firm's innovative approach to sustainable investing\n",
      "\n",
      "VIII. Conclusion\n",
      "   A. Recap of Neuberger Berman's commitment to active management in climate transition\n",
      "   B. Emphasis on the importance of going \"beyond the numbers\" in net-zero alignment assessments\n",
      "   C. Final thoughts on the role of the Net-Zero Alignment Indicator in shaping a sustainable future for investments.\n",
      "==================================\u001b[1m Ai Message \u001b[0m==================================\n",
      "\n",
      "**Title: Neuberger Berman's Approach to Net-Zero Alignment**\n",
      "\n",
      "**Body:**\n",
      "\n",
      "In the face of escalating global commitments to net-zero greenhouse gas emissions, investors are increasingly recognizing the need to manage the risk of misalignment with these targets. Neuberger Berman, a leading asset management firm, has developed the Net-Zero Alignment Indicator (NZAI) to assess companies' progress towards net-zero emissions alignment, going beyond the limitations of existing benchmarks.\n",
      "\n",
      "## The Limitations of Existing Net-Zero Benchmarks\n",
      "\n",
      "While numerous \"Paris-Aligned\" or \"Climate Transition\" indices have emerged, Neuberger Berman argues that these benchmarks suffer from several flaws. The European Union's regulatory framework, which defines the parameters for these benchmarks, forces them to achieve emissions reductions primarily through reducing the weight of high-emitting sectors. This approach, according to Neuberger Berman, is a blunt instrument that often results in major sectoral bets against the broad market and overlooks opportunities to support businesses with credible emissions reduction plans.\n",
      "\n",
      "## Neuberger Berman's Net-Zero Alignment Indicator\n",
      "\n",
      "The NZAI is a three-step process designed to provide a more comprehensive assessment of companies' net-zero alignment.\n",
      "\n",
      "1. **Quantitative Scoring:** The NZAI utilizes over 30 data points from third-party vendors to generate scores (1-5) for six sub-indicators: Long-Term Ambition, Short- and Medium-Term Targets, Emissions Performance, Disclosure, Decarbonization Strategy, and Capital Allocation. These sub-indicators mirror the criteria set out by the Institutional Investor Group on Climate Change (IIGCC).\n",
      "\n",
      "2. **Analyst Validation:** Analysts can override initial scores based on direct engagement with companies, sustainability reports, or credible third-party sources. This step ensures a forward-looking and sector-specific evaluation, capturing nuances that may be missed by purely quantitative methods.\n",
      "\n",
      "3. **Final Score:** The sub-indicator scores are summed to produce an overall net-zero alignment score (1-30), which is then mapped to one of five alignment statuses: Achieving Net Zero, Aligned with a Net-Zero Pathway, Aligning with a Net-Zero Pathway, Committed to Aligning with a Net-Zero Pathway, and Not Aligned.\n",
      "\n",
      "## The Critical Role of Analyst Insights\n",
      "\n",
      "Neuberger Berman's analysts play a critical role in the NZAI process. Their expertise helps in evaluating companies that might otherwise be overlooked by traditional ESG data providers, especially privately-owned or significant bond issuers in the equity market. For instance, in the case of Jaguar Land Rover, analysts were able to evidence upgrades for three sub-indicators based on their knowledge of the company and its public sustainability reporting.\n",
      "\n",
      "## Engagement and Feedback Loop\n",
      "\n",
      "For investors with substantial engagement programs, the NZAI introduces a feedback loop. Insights from engagement feed into the scores, and those evolving scores then help track and focus engagement on issuers' specific areas of weakness. This dynamic approach ensures that investment strategies remain responsive to companies' progress in addressing climate-related risks and opportunities.\n",
      "\n",
      "## Benefits for Different Investor Types\n",
      "\n",
      "The NZAI benefits all types of investors: those wishing to divest from misaligned companies, those integrating ESG into investment strategies, and those aiming to set their portfolios on a net-zero emissions path. For the latter, fundamental research and insights are crucial for informing corporate engagement programs.\n",
      "\n",
      "## Recognition and Case Study\n",
      "\n",
      "Neuberger Berman's innovative approach to sustainable investing has gained recognition, including a case study by Harvard Business School titled \"Investing in the Climate Transition at Neuberger Berman.\" This case study explores the development and application of the NZAI, highlighting the firm's commitment to active management in the climate transition.\n",
      "\n",
      "In conclusion, Neuberger Berman's Net-Zero Alignment Indicator represents a significant step forward in assessing companies' progress towards net-zero emissions alignment. By combining quantitative data with analyst insights and fostering a dynamic engagement process, the NZAI provides investors with a powerful tool for navigating the climate transition and shaping a more sustainable future for investments.\n"
     ]
    }
   ],
   "source": [
    "config = {\"configurable\": {\"thread_id\": 12, \"recursion_limit\": 10}}\n",
    "try:\n",
    "  for event in graph.stream({\"messages\": [HumanMessage(content=input)]}, config, stream_mode=\"values\"):\n",
    "      event['messages'][-1].pretty_print()\n",
    "except Exception as e:\n",
    "  print(f\"\\n\\nErrors generating response:\\n===============\\n {str(e)}\")"
   ]
  }
 ],
 "metadata": {
  "colab": {
   "provenance": []
  },
  "kernelspec": {
   "display_name": "Python 3.11",
   "language": "python",
   "name": "python3"
  },
  "language_info": {
   "codemirror_mode": {
    "name": "ipython",
    "version": 3
   },
   "file_extension": ".py",
   "mimetype": "text/x-python",
   "name": "python",
   "nbconvert_exporter": "python",
   "pygments_lexer": "ipython3",
   "version": "3.11.7"
  }
 },
 "nbformat": 4,
 "nbformat_minor": 4
}
