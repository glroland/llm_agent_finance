{
  "cells": [
    {
      "cell_type": "markdown",
      "metadata": {
        "id": "b0DO2AryfwGK"
      },
      "source": [
        "## Writing Finance Articles with Agentic Workflows\n",
        "<link rel=\"stylesheet\"\n",
        "href=\"https://stackpath.bootstrapcdn.com/bootstrap/4.5.2/css/bootstrap.min.css\"\n",
        "integrity=\"sha384-JcKb8q3iqJ61gNV9KGb8thSsNjpSL0n8PARn9HuZOnIxN0hoP+VmmDGMN5t9UJ0Z\"\n",
        "crossorigin=\"anonymous\">\n",
        "<div class=\"bg-info\">\n",
        "<h3>What are agentic workflows?</h3>\n",
        "</div>\n",
        "\n",
        "An <b>agentic workflow</b> is a multi-step sequence of tasks or decisions whose orchestration is handled by AI agents. In Generative AI, AI agents are Large Language Models (or \"Large Action Models\" in this context) that can perform goal-oriented tasks with minimal human intervention. Such tasks may include everything from simple reasoning tasks to complex decision making, and often involve interaction with external resources or systems (called \"tools\").\n",
        "\n",
        "The following will build an agentic workflow for writing finance articles. The workflow consists of the following steps:\n",
        "\n",
        "\n",
        "1.   A **searcher** agent (LLM + search tool) which will search the web for relevant links based on user input.\n",
        "2.   An **outliner** node (LLM) which will generate a suitable outline for the article.\n",
        "3.   A **writer** node (LLM) which will generate the final article.\n",
        "4.   A **critic** node (LLM) which will critique the writer's output and provide feedback to the **writer** for improvements.\n",
        "\n",
        "\n",
        "\n",
        "\n",
        "\n",
        "\n",
        "\n",
        "\n",
        "<div class=\"bg-info\">\n",
        "<h3>What is the difference between an agentic framework and an agentic orchestration framework?</h3>\n",
        "</div>\n",
        "\n",
        "There are different schools of thought about agentic orchestration frameworks.\n",
        "\n",
        "Agentic orchestration can refer to <b>agent-of-agent</b> systems, which are defined based on the number of agents. In this case, they are simply agentic systems that consist of more than a single agent. Hence, it can refer to agentic systems with multiple agents; it can also refer to agentic systems that invoke other agentic systems.\n",
        "\n",
        "Sometimes, agentic orchestration can also be used to distinguish complex multi-agent systems from simpler agentic systems. In this case, agentic orchestration is only necessary for systems with high levels of complexity. This is based on not just the number of agents, but other factors such as the types of flows (directed versus cyclic).\n",
        "\n",
        "There are many frameworks that can be used for building agentic workflows. Due to their reasoning and decision-making abilities, LLMs are a natural fit for driving autonomous workflows. However, users often want the ability to extend, constrain or even override aspects of the flow. For example, they may need a way to dynamically limit cycles, manage state across disparate tools, or integrate human-in-the-loop fedback. A popular approach is to use <b>LLM orchestration</b> frameworks. These are frameworks that combine the flexible and dynamic capabilities of agent-driven workflows with low-level control over essential details of the orchestration. This notebook uses <b>LangChain</b> to build the AI agents, and <b>LangGraph</b> to build the agentic workflow that orchestrates the agents."
      ]
    },
    {
      "cell_type": "markdown",
      "metadata": {
        "id": "NBqxqZJ5dR8Y"
      },
      "source": [
        "#Setup"
      ]
    },
    {
      "cell_type": "code",
      "execution_count": null,
      "metadata": {
        "id": "mUakb41j7Si1"
      },
      "outputs": [],
      "source": [
        "# Install dependencies\n",
        "!pip install -qU langgraph langgraph langchain_openai langchain_community python-dotenv langchain_mistralai llamaapi langchain-experimental langgraph-checkpoint langgraph-checkpoint-sqlite;"
      ]
    },
    {
      "cell_type": "code",
      "execution_count": null,
      "metadata": {
        "id": "XynJQl3jsZSe"
      },
      "outputs": [],
      "source": [
        "# Import libraries\n",
        "from typing import TypedDict, Literal\n",
        "import httpx\n",
        "import json\n",
        "import random\n",
        "from langgraph.graph import END, StateGraph\n",
        "from IPython.display import Image, display\n",
        "from langchain_core.runnables.graph import CurveStyle, MermaidDrawMethod\n",
        "from langchain_core.messages import HumanMessage\n",
        "import os\n",
        "from typing import Annotated, Literal, TypedDict\n",
        "from langgraph.graph.message import add_messages\n",
        "from langchain_community.tools.tavily_search import TavilySearchResults\n",
        "from langchain_core.prompts import ChatPromptTemplate, MessagesPlaceholder\n",
        "from langchain_openai import ChatOpenAI\n",
        "import functools\n",
        "from langgraph.prebuilt import ToolNode\n",
        "from langgraph.prebuilt import create_react_agent\n",
        "from langgraph.checkpoint.memory import MemorySaver\n",
        "from langchain.text_splitter import RecursiveCharacterTextSplitter\n",
        "import time\n",
        "import httpx"
      ]
    },
    {
      "cell_type": "markdown",
      "metadata": {
        "id": "CtrqsCjqn6X6"
      },
      "source": [
        "## Defining Templates\n",
        "Each agent has its own specific **template**. The templates are defined here."
      ]
    },
    {
      "cell_type": "code",
      "execution_count": null,
      "metadata": {
        "id": "wVN2oUbUn5J7"
      },
      "outputs": [],
      "source": [
        "searcher_template = \"\"\"\n",
        "Your task is to search the web for news articles relevant to the user's request.\n",
        "\n",
        "NOTE: Do not write the article. Simply search for and gather related news articles if needed, then forward them to the outliner node.\n",
        "\"\"\"\n",
        "\n",
        "outliner_template = \"\"\"\n",
        "Your task is to take a list of web articles and the user's instructions about the article they want to write, and use them to generate a concise outline.\n",
        "\n",
        "Focus on organizing the main points clearly to guide the writing process.\n",
        "\"\"\"\n",
        "\n",
        "writer_template = \"\"\"\n",
        "Your task is to write an article using the following format:\n",
        "\n",
        "    TITLE: <title>\n",
        "    BODY: <body>\n",
        "\n",
        "IMPORTANT: Do not copy the outline directly. Write the article in a clear and concise manner, with enough detail to inform the reader on the topic. Be sure to follow the outline.\n",
        "```\n",
        "\"\"\"\n",
        "\n",
        "critic_template = \"\"\"\n",
        "Your task is to critique an article written by a writer. Provide constructive feedback that can help improve the article.\n",
        "\n",
        "GUIDELINES:\n",
        "\n",
        "  - Provide feedback in bullet point format only.\n",
        "  - Focus on the use of keywords, the article title, and section headers. Ensure references are included.\n",
        "  - Do NOT write or rewrite the article.\n",
        "  - Do NOT include positive feedback.\n",
        "  - Never accept the first draft as final.\n",
        "  - If the article meets all expectations, respond with: DONE\n",
        "\"\"\""
      ]
    },
    {
      "cell_type": "markdown",
      "metadata": {
        "id": "-HnyBupj2ciz"
      },
      "source": [
        "## Defining State\n",
        "Here, we will define our **GraphState**, as well as the **nodes** and **edges** that our graph is comprised of. This will encapsulate **state** in our agentic workflows."
      ]
    },
    {
      "cell_type": "code",
      "execution_count": null,
      "metadata": {
        "id": "Tvdvlt-I13r4"
      },
      "outputs": [],
      "source": [
        "#####################################\n",
        "## STATE ##\n",
        "#####################################\n",
        "class NMAgentState(TypedDict):\n",
        "  \"\"\"\n",
        "  Encapsulates state in our agentic workflow\n",
        "  \"\"\"\n",
        "  messages: Annotated[list, add_messages]\n",
        "\n",
        "#####################################\n",
        "## TOOLS ##\n",
        "#####################################\n",
        "google_search_tool = TavilySearchResults(max_results=5, include_answer=True, include_raw_content=True, include_images=True,)\n",
        "\n",
        "#####################################\n",
        "## AGENTS ##\n",
        "#####################################\n",
        "\"\"\"\n",
        "The LLMs used by the agents\n",
        "\"\"\"\n",
        "granite_llm = ChatOpenAI(openai_api_base=os.environ[\"OPENAI_API_BASE\"],\n",
        "                         openai_api_key=os.environ[\"OPENAI_API_KEY\"],\n",
        "                         model=os.environ[\"OPENAI_API_MODEL\"],\n",
        "                         http_client=httpx.Client(verify=False),\n",
        "                         temperature=0.3,\n",
        "                         request_timeout=240)\n",
        "\n",
        "def create_agent(llm, tools, system_message: str):\n",
        "    \"\"\"\n",
        "    Creates an agent with the given LLM, tools, and system message\n",
        "    \"\"\"\n",
        "    prompt = ChatPromptTemplate.from_messages(\n",
        "        [\n",
        "            (\n",
        "                \"system\",\n",
        "                \"{system_message}\",\n",
        "            ),\n",
        "            MessagesPlaceholder(variable_name=\"messages\"),\n",
        "        ]\n",
        "    )\n",
        "    prompt = prompt.partial(system_message=system_message)\n",
        "    if tools:\n",
        "      return prompt | llm.bind_tools(tools)\n",
        "    else:\n",
        "      return prompt | llm\n",
        "\n",
        "searcher_agent = create_agent(granite_llm, [google_search_tool], searcher_template)\n",
        "outliner_agent = create_agent(granite_llm, [], outliner_template)\n",
        "writer_agent = create_agent(granite_llm, [], writer_template)\n",
        "critic_agent = create_agent(granite_llm, [], critic_template)\n",
        "\n",
        "#####################################\n",
        "## NODES ##\n",
        "#####################################\n",
        "def agent_node(state, agent, name):\n",
        "  result = agent.invoke(state)\n",
        "  return { \"messages\": [result] }\n",
        "\n",
        "searcher_node = functools.partial(agent_node, agent=searcher_agent, name=\"Search Agent\")\n",
        "outliner_node = functools.partial(agent_node, agent=outliner_agent, name=\"Outliner Agent\")\n",
        "writer_node = functools.partial(agent_node, agent=writer_agent, name=\"Writer Agent\")\n",
        "tool_node = ToolNode([google_search_tool])\n",
        "critic_node = functools.partial(agent_node, agent=critic_agent, name=\"Critic Agent\")\n",
        "\n",
        "#####################################\n",
        "## EDGES ##\n",
        "#####################################\n",
        "def should_search(state) -> Literal['tools', 'outliner']:\n",
        "  if len(state['messages']) and state['messages'][-1].tool_calls:\n",
        "    return \"tools\"\n",
        "  else:\n",
        "    return \"outliner\"\n",
        "\n",
        "def should_edit(state) -> Literal['writer', END]:\n",
        "  if len(state['messages']) and 'DONE' in state['messages'][-1].content:\n",
        "    return END\n",
        "  else:\n",
        "    return \"writer\""
      ]
    },
    {
      "cell_type": "markdown",
      "metadata": {
        "id": "i8Lk_1C-8Qzd"
      },
      "source": [
        "## Defining the Workflow Graph\n",
        "Here, we will define the workflow, which will encapsulate the state, nodes and edges defined above."
      ]
    },
    {
      "cell_type": "code",
      "execution_count": null,
      "metadata": {
        "id": "-7R8y42I8pjP"
      },
      "outputs": [],
      "source": [
        "workflow = StateGraph(NMAgentState)\n",
        "\n",
        "# nodes\n",
        "workflow.add_node(\"searcher\", searcher_node)\n",
        "workflow.add_node(\"outliner\", outliner_node)\n",
        "workflow.add_node(\"writer\", writer_node)\n",
        "workflow.add_node(\"tools\", tool_node)\n",
        "workflow.add_node(\"critic\", critic_node)\n",
        "\n",
        "# entrypoint\n",
        "workflow.set_entry_point(\"searcher\")\n",
        "\n",
        "# edges\n",
        "workflow.add_conditional_edges(\"searcher\", should_search)\n",
        "workflow.add_edge(\"tools\", \"searcher\")\n",
        "workflow.add_edge(\"outliner\", \"writer\")\n",
        "workflow.add_edge(\"writer\", 'critic')\n",
        "workflow.add_conditional_edges(\"critic\", should_edit)\n",
        "\n",
        "# compile the workflow into a graph\n",
        "checkpointer = MemorySaver()\n",
        "graph = workflow.compile(checkpointer=checkpointer, interrupt_before=['critic'])"
      ]
    },
    {
      "cell_type": "markdown",
      "metadata": {
        "id": "aUg7mvnN-Ors"
      },
      "source": [
        "Visualize the graph:"
      ]
    },
    {
      "cell_type": "code",
      "execution_count": null,
      "metadata": {
        "colab": {
          "base_uri": "https://localhost:8080/",
          "height": 796
        },
        "id": "ztvmtR3S-QrM",
        "outputId": "40dae56c-8757-4428-b94b-49d2b732c12a"
      },
      "outputs": [],
      "source": [
        "Image(graph.get_graph(xray=1).draw_mermaid_png())"
      ]
    },
    {
      "cell_type": "markdown",
      "metadata": {
        "id": "YV-oh0rL-Vs7"
      },
      "source": [
        "# Testing the workflow\n",
        "Now that the workflow has been generated, we can test it out with different prompts."
      ]
    },
    {
      "cell_type": "code",
      "execution_count": null,
      "metadata": {
        "id": "fN2Kzpwn-n5D"
      },
      "outputs": [],
      "source": [
        "# Prompt to test\n",
        "input = \"Generate an article about net-zero alignment by Neuberger Berman.\""
      ]
    },
    {
      "cell_type": "code",
      "execution_count": null,
      "metadata": {
        "colab": {
          "base_uri": "https://localhost:8080/"
        },
        "id": "ih0KwOth_Ic2",
        "outputId": "2fb8e1eb-610d-4ca6-f98e-5a22cb3b9309"
      },
      "outputs": [],
      "source": [
        "config = {\"configurable\": {\"thread_id\": 12, \"recursion_limit\": 10}}\n",
        "try:\n",
        "  for event in graph.stream({\"messages\": [HumanMessage(content=input)]}, config, stream_mode=\"values\"):\n",
        "      event['messages'][-1].pretty_print()\n",
        "except Exception as e:\n",
        "  print(f\"\\n\\nErrors generating response:\\n===============\\n {str(e)}\")"
      ]
    }
  ],
  "metadata": {
    "colab": {
      "provenance": []
    },
    "kernelspec": {
      "display_name": "Python 3",
      "name": "python3"
    },
    "language_info": {
      "name": "python"
    }
  },
  "nbformat": 4,
  "nbformat_minor": 0
}
