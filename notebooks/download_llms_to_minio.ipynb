{
 "cells": [
  {
   "cell_type": "code",
   "execution_count": 1,
   "id": "36180f54-b7a0-44ff-a9a3-cb3b3e311c5c",
   "metadata": {},
   "outputs": [
    {
     "name": "stdout",
     "output_type": "stream",
     "text": [
      "\n",
      "\u001b[1m[\u001b[0m\u001b[34;49mnotice\u001b[0m\u001b[1;39;49m]\u001b[0m\u001b[39;49m A new release of pip is available: \u001b[0m\u001b[31;49m23.2.1\u001b[0m\u001b[39;49m -> \u001b[0m\u001b[32;49m25.0.1\u001b[0m\n",
      "\u001b[1m[\u001b[0m\u001b[34;49mnotice\u001b[0m\u001b[1;39;49m]\u001b[0m\u001b[39;49m To update, run: \u001b[0m\u001b[32;49mpip install --upgrade pip\u001b[0m\n"
     ]
    }
   ],
   "source": [
    "!pip install -q huggingface_hub boto3 "
   ]
  },
  {
   "cell_type": "code",
   "execution_count": 2,
   "id": "17613d5e-510d-4f77-b25e-6cbd4087ec31",
   "metadata": {},
   "outputs": [],
   "source": [
    "import os\n",
    "import boto3\n",
    "from huggingface_hub import hf_hub_download\n",
    "from huggingface_hub import snapshot_download"
   ]
  },
  {
   "cell_type": "code",
   "execution_count": 3,
   "id": "a5378d2d-05c4-427f-bf16-457993f5793d",
   "metadata": {},
   "outputs": [
    {
     "name": "stdout",
     "output_type": "stream",
     "text": [
      "/opt/app-root/src\n"
     ]
    }
   ],
   "source": [
    "!pwd\n",
    "!mkdir -p /opt/app-root/src/llm"
   ]
  },
  {
   "cell_type": "code",
   "execution_count": 6,
   "id": "2a9a47d4-ea7b-4a94-8343-a4cf29a1b02d",
   "metadata": {},
   "outputs": [
    {
     "data": {
      "application/vnd.jupyter.widget-view+json": {
       "model_id": "241660ffe9244413b71bc3b33593304d",
       "version_major": 2,
       "version_minor": 0
      },
      "text/plain": [
       "Fetching 15 files:   0%|          | 0/15 [00:00<?, ?it/s]"
      ]
     },
     "metadata": {},
     "output_type": "display_data"
    },
    {
     "data": {
      "application/vnd.jupyter.widget-view+json": {
       "model_id": "f685146ba7f549d68d7e9b3d17d3df50",
       "version_major": 2,
       "version_minor": 0
      },
      "text/plain": [
       "model-00002-of-00004.safetensors:   0%|          | 0.00/4.99G [00:00<?, ?B/s]"
      ]
     },
     "metadata": {},
     "output_type": "display_data"
    },
    {
     "data": {
      "application/vnd.jupyter.widget-view+json": {
       "model_id": "4aef09ff3ff14bd998adc4e6c572765f",
       "version_major": 2,
       "version_minor": 0
      },
      "text/plain": [
       "model-00001-of-00004.safetensors:   0%|          | 0.00/4.97G [00:00<?, ?B/s]"
      ]
     },
     "metadata": {},
     "output_type": "display_data"
    },
    {
     "data": {
      "application/vnd.jupyter.widget-view+json": {
       "model_id": "d764fa98a1a144f8ab25cb6df6980680",
       "version_major": 2,
       "version_minor": 0
      },
      "text/plain": [
       "added_tokens.json:   0%|          | 0.00/87.0 [00:00<?, ?B/s]"
      ]
     },
     "metadata": {},
     "output_type": "display_data"
    },
    {
     "data": {
      "application/vnd.jupyter.widget-view+json": {
       "model_id": "f1c47f11365a46d9a83ce192d6445bbf",
       "version_major": 2,
       "version_minor": 0
      },
      "text/plain": [
       "generation_config.json:   0%|          | 0.00/137 [00:00<?, ?B/s]"
      ]
     },
     "metadata": {},
     "output_type": "display_data"
    },
    {
     "data": {
      "application/vnd.jupyter.widget-view+json": {
       "model_id": "7697300759df4117a1732ff1b1dab8a0",
       "version_major": 2,
       "version_minor": 0
      },
      "text/plain": [
       ".gitattributes:   0%|          | 0.00/1.52k [00:00<?, ?B/s]"
      ]
     },
     "metadata": {},
     "output_type": "display_data"
    },
    {
     "data": {
      "application/vnd.jupyter.widget-view+json": {
       "model_id": "0511bfc462474617bd563ffeb9c6021b",
       "version_major": 2,
       "version_minor": 0
      },
      "text/plain": [
       "README.md:   0%|          | 0.00/11.4k [00:00<?, ?B/s]"
      ]
     },
     "metadata": {},
     "output_type": "display_data"
    },
    {
     "data": {
      "application/vnd.jupyter.widget-view+json": {
       "model_id": "43d8fb44c6af44c0ba74485d869eddd7",
       "version_major": 2,
       "version_minor": 0
      },
      "text/plain": [
       "config.json:   0%|          | 0.00/788 [00:00<?, ?B/s]"
      ]
     },
     "metadata": {},
     "output_type": "display_data"
    },
    {
     "data": {
      "application/vnd.jupyter.widget-view+json": {
       "model_id": "869089af4d874019a1ca81e75bbe7f62",
       "version_major": 2,
       "version_minor": 0
      },
      "text/plain": [
       "merges.txt:   0%|          | 0.00/442k [00:00<?, ?B/s]"
      ]
     },
     "metadata": {},
     "output_type": "display_data"
    },
    {
     "data": {
      "application/vnd.jupyter.widget-view+json": {
       "model_id": "d13c4717205c45b1ba489fe2eef38517",
       "version_major": 2,
       "version_minor": 0
      },
      "text/plain": [
       "model-00003-of-00004.safetensors:   0%|          | 0.00/4.97G [00:00<?, ?B/s]"
      ]
     },
     "metadata": {},
     "output_type": "display_data"
    },
    {
     "data": {
      "application/vnd.jupyter.widget-view+json": {
       "model_id": "ac787937dce34df887a7a325344e8565",
       "version_major": 2,
       "version_minor": 0
      },
      "text/plain": [
       "model.safetensors.index.json:   0%|          | 0.00/29.8k [00:00<?, ?B/s]"
      ]
     },
     "metadata": {},
     "output_type": "display_data"
    },
    {
     "data": {
      "application/vnd.jupyter.widget-view+json": {
       "model_id": "6af2b9ff64dd4d14a8c8ddb51657b201",
       "version_major": 2,
       "version_minor": 0
      },
      "text/plain": [
       "special_tokens_map.json:   0%|          | 0.00/701 [00:00<?, ?B/s]"
      ]
     },
     "metadata": {},
     "output_type": "display_data"
    },
    {
     "data": {
      "application/vnd.jupyter.widget-view+json": {
       "model_id": "17ac145f81ed468db4feee0fa8149f5d",
       "version_major": 2,
       "version_minor": 0
      },
      "text/plain": [
       "tokenizer.json:   0%|          | 0.00/3.48M [00:00<?, ?B/s]"
      ]
     },
     "metadata": {},
     "output_type": "display_data"
    },
    {
     "data": {
      "application/vnd.jupyter.widget-view+json": {
       "model_id": "0b941f255dc7446cad0cf1e86f7a11f7",
       "version_major": 2,
       "version_minor": 0
      },
      "text/plain": [
       "model-00004-of-00004.safetensors:   0%|          | 0.00/1.41G [00:00<?, ?B/s]"
      ]
     },
     "metadata": {},
     "output_type": "display_data"
    },
    {
     "data": {
      "application/vnd.jupyter.widget-view+json": {
       "model_id": "55da0284ba574a0abfc4ea96c228c35c",
       "version_major": 2,
       "version_minor": 0
      },
      "text/plain": [
       "tokenizer_config.json:   0%|          | 0.00/5.64k [00:00<?, ?B/s]"
      ]
     },
     "metadata": {},
     "output_type": "display_data"
    },
    {
     "data": {
      "application/vnd.jupyter.widget-view+json": {
       "model_id": "e58344e4726d4a6a83b6a74b2dc90249",
       "version_major": 2,
       "version_minor": 0
      },
      "text/plain": [
       "vocab.json:   0%|          | 0.00/777k [00:00<?, ?B/s]"
      ]
     },
     "metadata": {},
     "output_type": "display_data"
    },
    {
     "name": "stdout",
     "output_type": "stream",
     "text": [
      "Uploading: /opt/app-root/src/llm/granite/models--ibm-granite--granite-3.0-8b-instruct\n",
      "Uploading: /opt/app-root/src/llm/granite/models--ibm-granite--granite-3.0-8b-instruct/refs\n",
      "Uploading: /opt/app-root/src/llm/granite/models--ibm-granite--granite-3.0-8b-instruct/refs/main\n",
      "Uploading: /opt/app-root/src/llm/granite/models--ibm-granite--granite-3.0-8b-instruct/blobs\n",
      "Uploading: /opt/app-root/src/llm/granite/models--ibm-granite--granite-3.0-8b-instruct/blobs/0a11f2016e660fd490f7bf168e6d1f9c86a8f744\n",
      "Uploading: /opt/app-root/src/llm/granite/models--ibm-granite--granite-3.0-8b-instruct/blobs/aa755f8f4af8b1eb999e60800ab12661442a6ef5\n",
      "Uploading: /opt/app-root/src/llm/granite/models--ibm-granite--granite-3.0-8b-instruct/blobs/d74ee73a87b784306471df88cdd53b819b0d3450\n",
      "Uploading: /opt/app-root/src/llm/granite/models--ibm-granite--granite-3.0-8b-instruct/blobs/11f3f2c66235d30bc9bf04ad7e1b4a19d80e84da\n",
      "Uploading: /opt/app-root/src/llm/granite/models--ibm-granite--granite-3.0-8b-instruct/blobs/79c434f5c43d0bbd99b07f0c3c2e336481714e0845a27969ac8c060722fb8ceb\n",
      "Uploading: /opt/app-root/src/llm/granite/models--ibm-granite--granite-3.0-8b-instruct/blobs/90be34abd8a4f86e251d4ebc5224424dd223d90a7e51875fd0bc277c8207c40f\n",
      "Uploading: /opt/app-root/src/llm/granite/models--ibm-granite--granite-3.0-8b-instruct/blobs/a6344aac8c09253b3b630fb776ae94478aa0275b\n",
      "Uploading: /opt/app-root/src/llm/granite/models--ibm-granite--granite-3.0-8b-instruct/blobs/c4ff3e91b9d5c5285e29e497fdefa76ec40b66ebf55e4e6a1b179bde6068d401\n",
      "Uploading: /opt/app-root/src/llm/granite/models--ibm-granite--granite-3.0-8b-instruct/blobs/7deebc860cf6aec74ac8929e1e9fd25bd6bc85c5\n",
      "Uploading: /opt/app-root/src/llm/granite/models--ibm-granite--granite-3.0-8b-instruct/blobs/6e06d9ba85709934f6a8cad738d36225c8044890\n",
      "Uploading: /opt/app-root/src/llm/granite/models--ibm-granite--granite-3.0-8b-instruct/blobs/386500a5040da66c6db3d8b9c44ccd1ee202c744\n",
      "Uploading: /opt/app-root/src/llm/granite/models--ibm-granite--granite-3.0-8b-instruct/blobs/c7fa6bbabc674f996552f1f81aea015e513aed54\n",
      "Uploading: /opt/app-root/src/llm/granite/models--ibm-granite--granite-3.0-8b-instruct/blobs/bf66c4326101ba7df9b62392164168aa4ed860e869b90ee5017bb331e0861d2a\n",
      "Uploading: /opt/app-root/src/llm/granite/models--ibm-granite--granite-3.0-8b-instruct/blobs/183eb810668f005a1ed0e0c8be060e5f47c23f2f\n",
      "Uploading: /opt/app-root/src/llm/granite/models--ibm-granite--granite-3.0-8b-instruct/blobs/f8479fb696fe07332c55300a6accf8cc191acc6a\n",
      "Uploading: /opt/app-root/src/llm/granite/models--ibm-granite--granite-3.0-8b-instruct/snapshots\n",
      "Uploading: /opt/app-root/src/llm/granite/models--ibm-granite--granite-3.0-8b-instruct/snapshots/5af56291a1c6ca9056df597aab0cff53edabddb0\n",
      "Uploading: /opt/app-root/src/llm/granite/models--ibm-granite--granite-3.0-8b-instruct/snapshots/5af56291a1c6ca9056df597aab0cff53edabddb0/special_tokens_map.json\n",
      "Uploading: /opt/app-root/src/llm/granite/models--ibm-granite--granite-3.0-8b-instruct/snapshots/5af56291a1c6ca9056df597aab0cff53edabddb0/tokenizer_config.json\n",
      "Uploading: /opt/app-root/src/llm/granite/models--ibm-granite--granite-3.0-8b-instruct/snapshots/5af56291a1c6ca9056df597aab0cff53edabddb0/model-00001-of-00004.safetensors\n",
      "Uploading: /opt/app-root/src/llm/granite/models--ibm-granite--granite-3.0-8b-instruct/snapshots/5af56291a1c6ca9056df597aab0cff53edabddb0/generation_config.json\n",
      "Uploading: /opt/app-root/src/llm/granite/models--ibm-granite--granite-3.0-8b-instruct/snapshots/5af56291a1c6ca9056df597aab0cff53edabddb0/.gitattributes\n",
      "Uploading: /opt/app-root/src/llm/granite/models--ibm-granite--granite-3.0-8b-instruct/snapshots/5af56291a1c6ca9056df597aab0cff53edabddb0/model-00003-of-00004.safetensors\n",
      "Uploading: /opt/app-root/src/llm/granite/models--ibm-granite--granite-3.0-8b-instruct/snapshots/5af56291a1c6ca9056df597aab0cff53edabddb0/README.md\n",
      "Uploading: /opt/app-root/src/llm/granite/models--ibm-granite--granite-3.0-8b-instruct/snapshots/5af56291a1c6ca9056df597aab0cff53edabddb0/vocab.json\n",
      "Uploading: /opt/app-root/src/llm/granite/models--ibm-granite--granite-3.0-8b-instruct/snapshots/5af56291a1c6ca9056df597aab0cff53edabddb0/config.json\n",
      "Uploading: /opt/app-root/src/llm/granite/models--ibm-granite--granite-3.0-8b-instruct/snapshots/5af56291a1c6ca9056df597aab0cff53edabddb0/tokenizer.json\n",
      "Uploading: /opt/app-root/src/llm/granite/models--ibm-granite--granite-3.0-8b-instruct/snapshots/5af56291a1c6ca9056df597aab0cff53edabddb0/model-00002-of-00004.safetensors\n",
      "Uploading: /opt/app-root/src/llm/granite/models--ibm-granite--granite-3.0-8b-instruct/snapshots/5af56291a1c6ca9056df597aab0cff53edabddb0/added_tokens.json\n",
      "Uploading: /opt/app-root/src/llm/granite/models--ibm-granite--granite-3.0-8b-instruct/snapshots/5af56291a1c6ca9056df597aab0cff53edabddb0/merges.txt\n",
      "Uploading: /opt/app-root/src/llm/granite/models--ibm-granite--granite-3.0-8b-instruct/snapshots/5af56291a1c6ca9056df597aab0cff53edabddb0/model-00004-of-00004.safetensors\n",
      "Uploading: /opt/app-root/src/llm/granite/models--ibm-granite--granite-3.0-8b-instruct/snapshots/5af56291a1c6ca9056df597aab0cff53edabddb0/model.safetensors.index.json\n",
      "Uploading: /opt/app-root/src/llm/granite/.locks\n",
      "Uploading: /opt/app-root/src/llm/granite/.locks/models--ibm-granite--granite-3.0-8b-instruct\n",
      "Uploading: /opt/app-root/src/llm/granite/.locks/models--ibm-granite--granite-3.0-8b-instruct/7deebc860cf6aec74ac8929e1e9fd25bd6bc85c5.lock\n",
      "Uploading: /opt/app-root/src/llm/granite/.locks/models--ibm-granite--granite-3.0-8b-instruct/aa755f8f4af8b1eb999e60800ab12661442a6ef5.lock\n",
      "Uploading: /opt/app-root/src/llm/granite/.locks/models--ibm-granite--granite-3.0-8b-instruct/79c434f5c43d0bbd99b07f0c3c2e336481714e0845a27969ac8c060722fb8ceb.lock\n",
      "Uploading: /opt/app-root/src/llm/granite/.locks/models--ibm-granite--granite-3.0-8b-instruct/90be34abd8a4f86e251d4ebc5224424dd223d90a7e51875fd0bc277c8207c40f.lock\n",
      "Uploading: /opt/app-root/src/llm/granite/.locks/models--ibm-granite--granite-3.0-8b-instruct/bf66c4326101ba7df9b62392164168aa4ed860e869b90ee5017bb331e0861d2a.lock\n",
      "Uploading: /opt/app-root/src/llm/granite/.locks/models--ibm-granite--granite-3.0-8b-instruct/f8479fb696fe07332c55300a6accf8cc191acc6a.lock\n",
      "Uploading: /opt/app-root/src/llm/granite/.locks/models--ibm-granite--granite-3.0-8b-instruct/d74ee73a87b784306471df88cdd53b819b0d3450.lock\n",
      "Uploading: /opt/app-root/src/llm/granite/.locks/models--ibm-granite--granite-3.0-8b-instruct/183eb810668f005a1ed0e0c8be060e5f47c23f2f.lock\n",
      "Uploading: /opt/app-root/src/llm/granite/.locks/models--ibm-granite--granite-3.0-8b-instruct/386500a5040da66c6db3d8b9c44ccd1ee202c744.lock\n",
      "Uploading: /opt/app-root/src/llm/granite/.locks/models--ibm-granite--granite-3.0-8b-instruct/6e06d9ba85709934f6a8cad738d36225c8044890.lock\n",
      "Uploading: /opt/app-root/src/llm/granite/.locks/models--ibm-granite--granite-3.0-8b-instruct/c4ff3e91b9d5c5285e29e497fdefa76ec40b66ebf55e4e6a1b179bde6068d401.lock\n",
      "Uploading: /opt/app-root/src/llm/granite/.locks/models--ibm-granite--granite-3.0-8b-instruct/c7fa6bbabc674f996552f1f81aea015e513aed54.lock\n",
      "Uploading: /opt/app-root/src/llm/granite/.locks/models--ibm-granite--granite-3.0-8b-instruct/0a11f2016e660fd490f7bf168e6d1f9c86a8f744.lock\n",
      "Uploading: /opt/app-root/src/llm/granite/.locks/models--ibm-granite--granite-3.0-8b-instruct/a6344aac8c09253b3b630fb776ae94478aa0275b.lock\n",
      "Uploading: /opt/app-root/src/llm/granite/.locks/models--ibm-granite--granite-3.0-8b-instruct/11f3f2c66235d30bc9bf04ad7e1b4a19d80e84da.lock\n"
     ]
    }
   ],
   "source": [
    "bucket_name = \"llm\"\n",
    "base_path = \"/opt/app-root/src/llm\"\n",
    "hf_token = \"your huggingface token\"\n",
    "\n",
    "s3_client = boto3.client('s3',\n",
    "                         aws_access_key_id='your minio access key',\n",
    "                         aws_secret_access_key='your minio secret key',\n",
    "                         endpoint_url=\"your minio endpoint\"\n",
    "                        )\n",
    "\n",
    "\n",
    "def upload_file_to_minio(repo_id, prefix_key, fullfilename=None):\n",
    "    path = f\"{base_path}/{prefix_key}\" if fullfilename is None else fullfilename\n",
    "    for filename in os.listdir(path):\n",
    "        fullfilename = path + '/' + filename\n",
    "        print(\"Uploading:\", fullfilename)\n",
    "        if os.path.isdir(fullfilename):\n",
    "            upload_file_to_minio(repo_id, prefix_key, fullfilename)\n",
    "        else:\n",
    "            try:\n",
    "                s3_client.upload_file(fullfilename, bucket_name, prefix_key + '/' + filename)\n",
    "            except Exception as e:\n",
    "                print(f\"An error occurred while uploading {fullfilename}: {e}\")\n",
    "\n",
    "snapshot_download(repo_id='meta-llama/Llama-3.1-8B-Instruct', cache_dir=f\"{base_path}/llama\", token=hf_token)\n",
    "upload_file_to_minio('meta-llama/Llama-3.1-8B-Instruct', \"llama\")\n",
    "\n",
    "snapshot_download(repo_id='ibm-granite/granite-3.0-8b-instruct', cache_dir=f\"{base_path}/granite\", token=hf_token)\n",
    "upload_file_to_minio('ibm-granite/granite-3.0-8b-instruct', \"granite\")"
   ]
  },
  {
   "cell_type": "code",
   "execution_count": 7,
   "id": "522fc6b3-53f5-40fb-adab-a2ff9b175f79",
   "metadata": {},
   "outputs": [],
   "source": [
    "!rm -rf /opt/app-root/src/llm/"
   ]
  },
  {
   "cell_type": "code",
   "execution_count": null,
   "id": "36860950-152a-45f3-b42d-56868a9e7dc4",
   "metadata": {},
   "outputs": [],
   "source": []
  }
 ],
 "metadata": {
  "kernelspec": {
   "display_name": "Python 3.11",
   "language": "python",
   "name": "python3"
  },
  "language_info": {
   "codemirror_mode": {
    "name": "ipython",
    "version": 3
   },
   "file_extension": ".py",
   "mimetype": "text/x-python",
   "name": "python",
   "nbconvert_exporter": "python",
   "pygments_lexer": "ipython3",
   "version": "3.11.7"
  }
 },
 "nbformat": 4,
 "nbformat_minor": 5
}
